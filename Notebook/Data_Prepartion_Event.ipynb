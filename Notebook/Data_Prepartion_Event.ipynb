{
 "cells": [
  {
   "cell_type": "markdown",
   "metadata": {},
   "source": [
    "# 10 Academy: Artificial Intelligence Mastery"
   ]
  },
  {
   "cell_type": "markdown",
   "metadata": {},
   "source": [
    "## Project: Change point analysis and statistical modelling of time series data - detecting changes and associating causes on time series data"
   ]
  },
  {
   "cell_type": "markdown",
   "metadata": {},
   "source": [
    "### Data Preparation Events and BrentOilPrice\n",
    "#### Ethel.C\n",
    "This notebook merges Brent oil price data with key events, analyzes the data, and visualizes the results using the updated `data_events.py`. Outputs are right-justified for readability."
   ]
  },
  {
   "cell_type": "code",
   "execution_count": 1,
   "metadata": {},
   "outputs": [],
   "source": [
    "import os\n",
    "import sys\n",
    "notebook_dir = os.getcwd()\n",
    "sys.path.append(os.path.abspath(os.path.join(notebook_dir, '..')))\n",
    "sys.path.append(os.path.abspath('../scripts'))"
   ]
  },
  {
   "cell_type": "code",
   "execution_count": 2,
   "metadata": {},
   "outputs": [],
   "source": [
    "import sys\n",
    "\n",
    "import pandas as pd\n",
    "import matplotlib.pyplot as plt\n",
    "\n",
    "scripts_dir = r'C:\\Users\\fikad\\Desktop\\10acedamy\\Brent_OilPrice_Dashboard\\script'\n",
    "src_dir = r'C:\\Users\\fikad\\Desktop\\10acedamy\\Brent_OilPrice_Dashboard\\src'\n",
    "data_path = r\"C:\\Users\\fikad\\Desktop\\10acedamy\\Brent_OilPrice_Dashboard\\Data\\BrentOilPrices.csv\"\n",
    "output_dir = r\"C:\\Users\\fikad\\Desktop\\10acedamy\\Brent_OilPrice_Dashboard\\Data\"\n",
    "if scripts_dir not in sys.path:\n",
    "    sys.path.append(scripts_dir)\n",
    "if src_dir not in sys.path:\n",
    "    sys.path.append(src_dir)"
   ]
  },
  {
   "cell_type": "code",
   "execution_count": 3,
   "metadata": {},
   "outputs": [],
   "source": [
    "from script.data_load import load_brent_data\n",
    "from script.data_events import create_events_data, major_events, plot_price_events"
   ]
  },
  {
   "cell_type": "markdown",
   "metadata": {},
   "source": [
    "### Load Brent oil price data"
   ]
  },
  {
   "cell_type": "code",
   "execution_count": 4,
   "metadata": {},
   "outputs": [
    {
     "name": "stdout",
     "output_type": "stream",
     "text": [
      "Brent Data Preview:\n"
     ]
    },
    {
     "data": {
      "text/html": [
       "<div>\n",
       "<style scoped>\n",
       "    .dataframe tbody tr th:only-of-type {\n",
       "        vertical-align: middle;\n",
       "    }\n",
       "\n",
       "    .dataframe tbody tr th {\n",
       "        vertical-align: top;\n",
       "    }\n",
       "\n",
       "    .dataframe thead th {\n",
       "        text-align: right;\n",
       "    }\n",
       "</style>\n",
       "<table border=\"1\" class=\"dataframe\">\n",
       "  <thead>\n",
       "    <tr style=\"text-align: right;\">\n",
       "      <th></th>\n",
       "      <th>Date</th>\n",
       "      <th>Price</th>\n",
       "    </tr>\n",
       "  </thead>\n",
       "  <tbody>\n",
       "    <tr>\n",
       "      <th>0</th>\n",
       "      <td>1987-05-20</td>\n",
       "      <td>18.63</td>\n",
       "    </tr>\n",
       "    <tr>\n",
       "      <th>1</th>\n",
       "      <td>1987-05-21</td>\n",
       "      <td>18.45</td>\n",
       "    </tr>\n",
       "    <tr>\n",
       "      <th>2</th>\n",
       "      <td>1987-05-22</td>\n",
       "      <td>18.55</td>\n",
       "    </tr>\n",
       "    <tr>\n",
       "      <th>3</th>\n",
       "      <td>1987-05-25</td>\n",
       "      <td>18.60</td>\n",
       "    </tr>\n",
       "    <tr>\n",
       "      <th>4</th>\n",
       "      <td>1987-05-26</td>\n",
       "      <td>18.63</td>\n",
       "    </tr>\n",
       "  </tbody>\n",
       "</table>\n",
       "</div>"
      ],
      "text/plain": [
       "        Date  Price\n",
       "0 1987-05-20  18.63\n",
       "1 1987-05-21  18.45\n",
       "2 1987-05-22  18.55\n",
       "3 1987-05-25  18.60\n",
       "4 1987-05-26  18.63"
      ]
     },
     "execution_count": 4,
     "metadata": {},
     "output_type": "execute_result"
    }
   ],
   "source": [
    "\n",
    "brent_data = load_brent_data(data_path)\n",
    "print(\"Brent Data Preview:\")\n",
    "brent_data.head()"
   ]
  },
  {
   "cell_type": "code",
   "execution_count": 5,
   "metadata": {},
   "outputs": [
    {
     "name": "stdout",
     "output_type": "stream",
     "text": [
      "Events saved to 'C:\\Users\\fikad\\Desktop\\10acedamy\\Brent_OilPrice_Dashboard\\Data\\key_events_1987_2022.csv'\n",
      "Key Events (1987–2022):\n",
      "         Date           Event_Type  \\\n",
      "0  1987-07-01          OPEC Policy   \n",
      "1  1988-07-18  Conflict Resolution   \n",
      "2  1989-02-15            Sanctions   \n",
      "3  1989-12-20   Political Decision   \n",
      "4  1990-08-02             Conflict   \n",
      "..        ...                  ...   \n",
      "95 2021-07-18          OPEC Policy   \n",
      "96 2021-10-04          OPEC Policy   \n",
      "97 2022-02-24             Conflict   \n",
      "98 2022-06-02          OPEC Policy   \n",
      "99 2022-09-05          OPEC Policy   \n",
      "\n",
      "                                    Event_Description  \n",
      "0   OPEC stabilizes prices post-1986 glut with quo...  \n",
      "1           Iran-Iraq War ends; oil supply stabilizes  \n",
      "2                   U.S. sanctions on Libya tightened  \n",
      "3   U.S. Strategic Petroleum Reserve release annou...  \n",
      "4   Iraq invades Kuwait; Gulf War begins, oil supp...  \n",
      "..                                                ...  \n",
      "95        OPEC+ agrees to gradual production increase  \n",
      "96                 OPEC+ boosts output as prices rise  \n",
      "97  Russia invades Ukraine; oil prices surge due t...  \n",
      "98        OPEC+ increases production amid high prices  \n",
      "99             OPEC+ cuts production by 2 million bpd  \n",
      "\n",
      "[100 rows x 3 columns]\n"
     ]
    }
   ],
   "source": [
    "events = create_events_data(output_dir)\n",
    "print(\"Key Events (1987–2022):\")\n",
    "print(events)"
   ]
  },
  {
   "cell_type": "markdown",
   "metadata": {},
   "source": [
    "### Sort data"
   ]
  },
  {
   "cell_type": "code",
   "execution_count": 6,
   "metadata": {},
   "outputs": [],
   "source": [
    "brent_data = brent_data.sort_values('Date')\n",
    "events = events.sort_values('Date')"
   ]
  },
  {
   "cell_type": "markdown",
   "metadata": {},
   "source": [
    "### Merge with asof to match events to nearest prior trading day"
   ]
  },
  {
   "cell_type": "code",
   "execution_count": null,
   "metadata": {},
   "outputs": [],
   "source": [
    "merged_data = pd.merge_asof(brent_data, events, on='Date', direction='backward', \n",
    "                            tolerance=pd.Timedelta('5 days'))\n",
    "merged_data['Event_Type'] = merged_data['Event_Type'].fillna('None')\n",
    "merged_data['Event_Description'] = merged_data['Event_Description'].fillna('None')\n",
    "merged_data['Returns'] = merged_data['Price'].pct_change() * 100\n",
    "major_event_dates = major_events()\n",
    "# Filter major events\n",
    "event_rows = merged_data[merged_data['Event_Type'] != 'None']\n",
    "major_events_df = event_rows[event_rows['Date'].isin(pd.to_datetime(major_event_dates))]\n",
    "print(\"Merged Data Preview:\")\n",
    "print(merged_data.head(2))\n",
    "print(merged_data.tail(5))\n",
    "print(f\"Total Rows in Merged Data: {len(merged_data)}\")\n",
    "print(\"Major Events:\")\n",
    "print(major_events_df[['Date', 'Price', 'Event_Type', 'Event_Description', 'Returns']])\n"
   ]
  },
  {
   "cell_type": "markdown",
   "metadata": {},
   "source": [
    "### Display plot"
   ]
  },
  {
   "cell_type": "code",
   "execution_count": null,
   "metadata": {},
   "outputs": [],
   "source": [
    "fig = plot_price_events(merged_data, price_color='navy',event_color='darkred',annot_size=9,figsize=(16, 8))\n",
    "plt.show()"
   ]
  },
  {
   "cell_type": "markdown",
   "metadata": {},
   "source": [
    "#### Save merged data to CSV"
   ]
  },
  {
   "cell_type": "code",
   "execution_count": null,
   "metadata": {},
   "outputs": [],
   "source": [
    "# Save merged data to CSV\n",
    "output_path = r\"E:\\DS+ML\\AIM3\\Week.10\\Data\\merged_brent_events.csv\"\n",
    "merged_data.to_csv(output_path, index=False)\n",
    "print(f\"Merged data saved to: {output_path}\".rjust(50))"
   ]
  }
 ],
 "metadata": {
  "kernelspec": {
   "display_name": "week_10",
   "language": "python",
   "name": "python3"
  },
  "language_info": {
   "codemirror_mode": {
    "name": "ipython",
    "version": 3
   },
   "file_extension": ".py",
   "mimetype": "text/x-python",
   "name": "python",
   "nbconvert_exporter": "python",
   "pygments_lexer": "ipython3",
   "version": "3.10.9"
  }
 },
 "nbformat": 4,
 "nbformat_minor": 2
}
